{
 "cells": [
  {
   "cell_type": "markdown",
   "metadata": {},
   "source": [
    "## Part 1"
   ]
  },
  {
   "cell_type": "markdown",
   "metadata": {},
   "source": [
    "1) For both Smith-Waterman and Needleman-Wunsch algorithms:\n",
    "    a) What are the parameters and variables required for algorithm initialization, execution, and termination?\n",
    "    b) What quantities are returned?\n",
    "    c) What is the runtime complexity?\n",
    "    \n",
    "    Smith-Waterman:\n",
    "        a) Parameters:\n",
    "            Initialization:\n",
    "                a) seq1: First protein sequence\n",
    "                b) seq2: Second protein sequence\n",
    "                c) smat: scoring matrix\n",
    "            Execution:\n",
    "                a) scores: matrix of size M x N that records scores of optimal alignment\n",
    "                b) traceback: matrix of size M x N that records previous cell from which each cell was computed from\n",
    "            Termination:\n",
    "                a) result: optimal alignment string\n",
    "        b) Returns: Optimal sub-alignment with positive scores\n",
    "        c) Complexity: O(MxN)\n",
    "\n",
    "    Needleman-Wunsch:\n",
    "        a) Parameters:\n",
    "            Initialization:\n",
    "                a) seq1: First protein sequence\n",
    "                b) seq2: Second protein sequence\n",
    "                c) smat: scoring matrix\n",
    "            Execution:\n",
    "                a) scores: matrix of size M x N that records scores of optimal alignment\n",
    "                b) traceback: matrix of size M x N that records previous cell from which each cell was computed from\n",
    "            Termination:\n",
    "                a) result: optimal alignment string\n",
    "        b) Returns: Full alignment string of sequence \n",
    "        c) Complexity: O(MxN)\n",
    "\n",
    "2) What functionalities in initialization, execution and termination are shared between these algorithms? Which are not shared?\n",
    "\n",
    "    Initialization: Both methods initialize and M x N matrix where M is the length of seq1 and N is the length of seq2. However, in initializing the SW matrix, you set the first row and first column to 0. \n",
    "    \n",
    "    Execution: Both methods share methods for calculating the score at a particular cell in the matrix. This entails taking the max of the three following scores:\n",
    "        a) Gap from left to right\n",
    "        b) Gap from top to bottom\n",
    "        c) Match\n",
    "    However, SW adds an extra option where you can reset to 0 if the score goes negative.\n",
    "    \n",
    "    Termination: Both methods have to use the traceback matrix to return an alignment. NW must start at the lower rightmost cell and trace back all the way to the start and return that string. SW needs to start at the max element in the matrix and trace back until a 0 is reached, then return the resulting string.\n",
    "\n",
    "3) How does affine-gap based alignment differ from linear-gap alignment in terms of implementation?\n",
    "    \n",
    "    Affine gap alignment requires you to keep track of the gap status of the previous cell when computing the score of the current cell (gap start, match/mismatch, gap extension). To return the optimal alignment you need two extra score matrices, one for seq1 and one for seq2, which keep track of the max score of either opening or extending a gap at the current cell. For the final traceback you would need to interface between the original score matrix and these two extra matrices to get the alignment."
   ]
  },
  {
   "cell_type": "code",
   "execution_count": null,
   "metadata": {},
   "outputs": [],
   "source": [
    "f = open(\"./sequences/prot-0088.fa\",'r').read()\n",
    "print(f)"
   ]
  },
  {
   "cell_type": "code",
   "execution_count": null,
   "metadata": {},
   "outputs": [],
   "source": [
    "sw = SmithWaterman(\"/Users/mtsui1/Documents/Classes/Algs/Project1/scoring_matrices/BLOSUM50.mat\")\n",
    "scores, alignment = sw.align(\"./sequences/test1.fa\", \"./sequences/test2.fa\")\n",
    "print(scores)\n",
    "print(alignment)"
   ]
  },
  {
   "cell_type": "markdown",
   "metadata": {},
   "source": [
    "## Part 2"
   ]
  },
  {
   "cell_type": "code",
   "execution_count": 13,
   "metadata": {},
   "outputs": [],
   "source": [
    "from align.algs import *\n",
    "import matplotlib.pyplot as plt\n",
    "from sklearn.metrics import roc_auc_score, roc_curve\n",
    "import json"
   ]
  },
  {
   "cell_type": "code",
   "execution_count": 4,
   "metadata": {},
   "outputs": [],
   "source": [
    "# read Pospairs and negpairs into a list\n",
    "\n",
    "f = open(\"./scoring_matrices/Pospairs.txt\",'r')\n",
    "lines = f.readlines() # skip header\n",
    "pos_pairs = []\n",
    "for line in lines:\n",
    "    line = line.strip()\n",
    "    line = [i for i in line.split(\" \") if i != \"\"]\n",
    "    pos_pairs.append(line)\n",
    "    \n",
    "f = open(\"./scoring_matrices/Negpairs.txt\",'r')\n",
    "lines = f.readlines() # skip header\n",
    "neg_pairs = []\n",
    "for line in lines:\n",
    "    line = line.strip()\n",
    "    line = [i for i in line.split(\" \") if i != \"\"]\n",
    "    neg_pairs.append(line)"
   ]
  },
  {
   "cell_type": "code",
   "execution_count": 63,
   "metadata": {},
   "outputs": [],
   "source": [
    "sw = SmithWaterman(\"/Users/mtsui1/Documents/Classes/Algs/Project1/scoring_matrices/BLOSUM50.mat\")\n",
    "sw.set_gap_open(-11)\n",
    "sw.set_gap_extend(-3)"
   ]
  },
  {
   "cell_type": "code",
   "execution_count": 64,
   "metadata": {},
   "outputs": [
    {
     "name": "stdout",
     "output_type": "stream",
     "text": [
      "['sequences/prot-0004.fa', 'sequences/prot-0008.fa']\n",
      "['sequences/prot-0031.fa', 'sequences/prot-0034.fa']\n",
      "['sequences/prot-0047.fa', 'sequences/prot-0050.fa']\n",
      "['sequences/prot-0065.fa', 'sequences/prot-0069.fa']\n",
      "['sequences/prot-0077.fa', 'sequences/prot-0082.fa']\n",
      "['sequences/prot-0098.fa', 'sequences/prot-0102.fa']\n",
      "['sequences/prot-0124.fa', 'sequences/prot-0125.fa']\n",
      "['sequences/prot-0166.fa', 'sequences/prot-0177.fa']\n",
      "['sequences/prot-0170.fa', 'sequences/prot-0173.fa']\n",
      "['sequences/prot-0175.fa', 'sequences/prot-0178.fa']\n",
      "['sequences/prot-0187.fa', 'sequences/prot-0190.fa']\n",
      "['sequences/prot-0240.fa', 'sequences/prot-0242.fa']\n",
      "['sequences/prot-0271.fa', 'sequences/prot-0275.fa']\n",
      "['sequences/prot-0298.fa', 'sequences/prot-0300.fa']\n",
      "['sequences/prot-0326.fa', 'sequences/prot-0327.fa']\n",
      "['sequences/prot-0354.fa', 'sequences/prot-0355.fa']\n",
      "['sequences/prot-0357.fa', 'sequences/prot-0360.fa']\n",
      "['sequences/prot-0361.fa', 'sequences/prot-0364.fa']\n",
      "['sequences/prot-0369.fa', 'sequences/prot-0370.fa']\n",
      "['sequences/prot-0380.fa', 'sequences/prot-0384.fa']\n",
      "['sequences/prot-0384.fa', 'sequences/prot-0392.fa']\n",
      "['sequences/prot-0410.fa', 'sequences/prot-0412.fa']\n",
      "['sequences/prot-0459.fa', 'sequences/prot-0461.fa']\n",
      "['sequences/prot-0465.fa', 'sequences/prot-0466.fa']\n",
      "['sequences/prot-0484.fa', 'sequences/prot-0485.fa']\n",
      "['sequences/prot-0507.fa', 'sequences/prot-0509.fa']\n",
      "['sequences/prot-0533.fa', 'sequences/prot-0534.fa']\n",
      "['sequences/prot-0570.fa', 'sequences/prot-0572.fa']\n",
      "['sequences/prot-0580.fa', 'sequences/prot-0615.fa']\n",
      "['sequences/prot-0582.fa', 'sequences/prot-0586.fa']\n",
      "['sequences/prot-0583.fa', 'sequences/prot-0598.fa']\n",
      "['sequences/prot-0584.fa', 'sequences/prot-0611.fa']\n",
      "['sequences/prot-0586.fa', 'sequences/prot-0590.fa']\n",
      "['sequences/prot-0587.fa', 'sequences/prot-0606.fa']\n",
      "['sequences/prot-0589.fa', 'sequences/prot-0591.fa']\n",
      "['sequences/prot-0590.fa', 'sequences/prot-0610.fa']\n",
      "['sequences/prot-0592.fa', 'sequences/prot-0601.fa']\n",
      "['sequences/prot-0594.fa', 'sequences/prot-0596.fa']\n",
      "['sequences/prot-0595.fa', 'sequences/prot-0620.fa']\n",
      "['sequences/prot-0597.fa', 'sequences/prot-0621.fa']\n",
      "['sequences/prot-0600.fa', 'sequences/prot-0605.fa']\n",
      "['sequences/prot-0602.fa', 'sequences/prot-0616.fa']\n",
      "['sequences/prot-0605.fa', 'sequences/prot-0615.fa']\n",
      "['sequences/prot-0609.fa', 'sequences/prot-0611.fa']\n",
      "['sequences/prot-0614.fa', 'sequences/prot-0616.fa']\n",
      "['sequences/prot-0659.fa', 'sequences/prot-0661.fa']\n",
      "['sequences/prot-0735.fa', 'sequences/prot-0736.fa']\n",
      "['sequences/prot-0776.fa', 'sequences/prot-0779.fa']\n",
      "['sequences/prot-0829.fa', 'sequences/prot-0832.fa']\n",
      "['sequences/prot-0860.fa', 'sequences/prot-0862.fa']\n"
     ]
    }
   ],
   "source": [
    "pos_scores = {}\n",
    "for pair in pos_pairs:\n",
    "    print(pair)\n",
    "    score = sw.align(pair[0], pair[1], return_alignment=False)\n",
    "\n",
    "    pos_scores[(pair[0], pair[1])] = score"
   ]
  },
  {
   "cell_type": "code",
   "execution_count": null,
   "metadata": {},
   "outputs": [],
   "source": [
    "pos_scores"
   ]
  },
  {
   "cell_type": "code",
   "execution_count": 65,
   "metadata": {},
   "outputs": [
    {
     "name": "stdout",
     "output_type": "stream",
     "text": [
      "['sequences/prot-0018.fa', 'sequences/prot-0198.fa']\n",
      "['sequences/prot-0035.fa', 'sequences/prot-0071.fa']\n",
      "['sequences/prot-0056.fa', 'sequences/prot-0826.fa']\n",
      "['sequences/prot-0075.fa', 'sequences/prot-0561.fa']\n",
      "['sequences/prot-0093.fa', 'sequences/prot-0091.fa']\n",
      "['sequences/prot-0110.fa', 'sequences/prot-0613.fa']\n",
      "['sequences/prot-0131.fa', 'sequences/prot-0547.fa']\n",
      "['sequences/prot-0148.fa', 'sequences/prot-0369.fa']\n",
      "['sequences/prot-0166.fa', 'sequences/prot-0839.fa']\n",
      "['sequences/prot-0186.fa', 'sequences/prot-0014.fa']\n",
      "['sequences/prot-0206.fa', 'sequences/prot-0313.fa']\n",
      "['sequences/prot-0228.fa', 'sequences/prot-0121.fa']\n",
      "['sequences/prot-0244.fa', 'sequences/prot-0817.fa']\n",
      "['sequences/prot-0262.fa', 'sequences/prot-0540.fa']\n",
      "['sequences/prot-0286.fa', 'sequences/prot-0641.fa']\n",
      "['sequences/prot-0305.fa', 'sequences/prot-0785.fa']\n",
      "['sequences/prot-0326.fa', 'sequences/prot-0712.fa']\n",
      "['sequences/prot-0346.fa', 'sequences/prot-0063.fa']\n",
      "['sequences/prot-0363.fa', 'sequences/prot-0345.fa']\n",
      "['sequences/prot-0380.fa', 'sequences/prot-0553.fa']\n",
      "['sequences/prot-0397.fa', 'sequences/prot-0470.fa']\n",
      "['sequences/prot-0414.fa', 'sequences/prot-0903.fa']\n",
      "['sequences/prot-0431.fa', 'sequences/prot-0093.fa']\n",
      "['sequences/prot-0446.fa', 'sequences/prot-0424.fa']\n",
      "['sequences/prot-0469.fa', 'sequences/prot-0609.fa']\n",
      "['sequences/prot-0486.fa', 'sequences/prot-0314.fa']\n",
      "['sequences/prot-0503.fa', 'sequences/prot-0454.fa']\n",
      "['sequences/prot-0520.fa', 'sequences/prot-0088.fa']\n",
      "['sequences/prot-0536.fa', 'sequences/prot-0452.fa']\n",
      "['sequences/prot-0552.fa', 'sequences/prot-0460.fa']\n",
      "['sequences/prot-0571.fa', 'sequences/prot-0711.fa']\n",
      "['sequences/prot-0595.fa', 'sequences/prot-0503.fa']\n",
      "['sequences/prot-0616.fa', 'sequences/prot-0819.fa']\n",
      "['sequences/prot-0631.fa', 'sequences/prot-0386.fa']\n",
      "['sequences/prot-0648.fa', 'sequences/prot-0022.fa']\n",
      "['sequences/prot-0665.fa', 'sequences/prot-0100.fa']\n",
      "['sequences/prot-0682.fa', 'sequences/prot-0873.fa']\n",
      "['sequences/prot-0699.fa', 'sequences/prot-0760.fa']\n",
      "['sequences/prot-0716.fa', 'sequences/prot-0710.fa']\n",
      "['sequences/prot-0734.fa', 'sequences/prot-0108.fa']\n",
      "['sequences/prot-0750.fa', 'sequences/prot-0875.fa']\n",
      "['sequences/prot-0772.fa', 'sequences/prot-0886.fa']\n",
      "['sequences/prot-0791.fa', 'sequences/prot-0245.fa']\n",
      "['sequences/prot-0805.fa', 'sequences/prot-0261.fa']\n",
      "['sequences/prot-0821.fa', 'sequences/prot-0591.fa']\n",
      "['sequences/prot-0843.fa', 'sequences/prot-0026.fa']\n",
      "['sequences/prot-0860.fa', 'sequences/prot-0510.fa']\n",
      "['sequences/prot-0878.fa', 'sequences/prot-0524.fa']\n",
      "['sequences/prot-0900.fa', 'sequences/prot-0264.fa']\n",
      "['sequences/prot-0915.fa', 'sequences/prot-0407.fa']\n"
     ]
    }
   ],
   "source": [
    "neg_scores = {}\n",
    "for pair in neg_pairs:\n",
    "    print(pair)\n",
    "    score = sw.align(pair[0], pair[1], return_alignment=False)\n",
    "\n",
    "    neg_scores[(pair[0], pair[1])] = score"
   ]
  },
  {
   "cell_type": "code",
   "execution_count": null,
   "metadata": {},
   "outputs": [],
   "source": [
    "neg_scores"
   ]
  },
  {
   "cell_type": "code",
   "execution_count": 66,
   "metadata": {},
   "outputs": [
    {
     "name": "stdout",
     "output_type": "stream",
     "text": [
      "[42.0, 49.0, 37.0, 79.0, 69.0, 34.0, 50.0, 31.0, 31.0, 34.0, 32.0, 36.0, 53.0, 41.0, 120.0, 32.0, 33.0, 50.0, 49.0, 57.0, 51.0, 42.0, 44.0, 44.0, 106.0, 36.0, 57.0, 54.0, 36.0, 37.0, 52.0, 42.0, 50.0, 48.0, 39.0, 46.0, 42.0, 40.0, 37.0, 32.0, 33.0, 33.0, 41.0, 67.0, 140.0, 41.0, 47.0, 358.0, 76.0, 44.0, 38.0, 28.0, 25.0, 32.0, 40.0, 41.0, 45.0, 20.0, 24.0, 20.0, 44.0, 19.0, 24.0, 40.0, 60.0, 34.0, 30.0, 40.0, 36.0, 35.0, 54.0, 34.0, 31.0, 50.0, 45.0, 27.0, 43.0, 31.0, 33.0, 35.0, 57.0, 40.0, 33.0, 51.0, 28.0, 52.0, 32.0, 34.0, 30.0, 30.0, 24.0, 29.0, 33.0, 40.0, 43.0, 34.0, 30.0, 22.0, 39.0, 31.0]\n"
     ]
    }
   ],
   "source": [
    "p_scores = list(pos_scores.values())\n",
    "\n",
    "n_scores = list(neg_scores.values())\n",
    "\n",
    "all_scores = p_scores + n_scores\n",
    "print(all_scores)"
   ]
  },
  {
   "cell_type": "code",
   "execution_count": null,
   "metadata": {},
   "outputs": [],
   "source": []
  },
  {
   "cell_type": "code",
   "execution_count": 39,
   "metadata": {},
   "outputs": [
    {
     "data": {
      "text/plain": [
       "Text(0.5, 1.0, 'Distribution of aligment scores')"
      ]
     },
     "execution_count": 39,
     "metadata": {},
     "output_type": "execute_result"
    },
    {
     "data": {
      "image/png": "[encoded data removed]",
      "text/plain": [
       "<Figure size 432x288 with 1 Axes>"
      ]
     },
     "metadata": {
      "needs_background": "light"
     },
     "output_type": "display_data"
    }
   ],
   "source": [
    "plt.hist(x=all_scores, bins='auto', rwidth=0.85)\n",
    "plt.grid(axis='y', alpha=0.75)\n",
    "plt.xlabel('Value')\n",
    "plt.ylabel('Frequency')\n",
    "plt.title('Distribution of aligment scores')"
   ]
  },
  {
   "cell_type": "markdown",
   "metadata": {},
   "source": [
    "The distribution is centered around scores from ~25-50, meaning that most alignments are falling into this score range. There are some higher scoring outliers as well."
   ]
  },
  {
   "cell_type": "code",
   "execution_count": 67,
   "metadata": {},
   "outputs": [
    {
     "name": "stdout",
     "output_type": "stream",
     "text": [
      "Average score (threshold): 45.44\n"
     ]
    }
   ],
   "source": [
    "\n",
    "avg_score = np.mean(all_scores)\n",
    "print(\"Average score (threshold): \" + str(avg_score))\n",
    "\n",
    "# predict that the scores higher than threshold are True\n",
    "predicted = all_scores > avg_score\n",
    "\n",
    "# First 50 scores are true positive, last 50 are true negative\n",
    "actual = list(np.repeat(True, 50))  + list(np.repeat(False, 50))\n",
    "\n",
    "df = pd.DataFrame({'predicted': predicted, 'actual': actual})\n"
   ]
  },
  {
   "cell_type": "code",
   "execution_count": 41,
   "metadata": {},
   "outputs": [
    {
     "data": {
      "text/html": [
       "<div>\n",
       "<style scoped>\n",
       "    .dataframe tbody tr th:only-of-type {\n",
       "        vertical-align: middle;\n",
       "    }\n",
       "\n",
       "    .dataframe tbody tr th {\n",
       "        vertical-align: top;\n",
       "    }\n",
       "\n",
       "    .dataframe thead th {\n",
       "        text-align: right;\n",
       "    }\n",
       "</style>\n",
       "<table border=\"1\" class=\"dataframe\">\n",
       "  <thead>\n",
       "    <tr style=\"text-align: right;\">\n",
       "      <th>Predicted</th>\n",
       "      <th>False</th>\n",
       "      <th>True</th>\n",
       "    </tr>\n",
       "    <tr>\n",
       "      <th>Actual</th>\n",
       "      <th></th>\n",
       "      <th></th>\n",
       "    </tr>\n",
       "  </thead>\n",
       "  <tbody>\n",
       "    <tr>\n",
       "      <th>False</th>\n",
       "      <td>44</td>\n",
       "      <td>6</td>\n",
       "    </tr>\n",
       "    <tr>\n",
       "      <th>True</th>\n",
       "      <td>28</td>\n",
       "      <td>22</td>\n",
       "    </tr>\n",
       "  </tbody>\n",
       "</table>\n",
       "</div>"
      ],
      "text/plain": [
       "Predicted  False  True \n",
       "Actual                 \n",
       "False         44      6\n",
       "True          28     22"
      ]
     },
     "execution_count": 41,
     "metadata": {},
     "output_type": "execute_result"
    }
   ],
   "source": [
    "confusion_matrix = pd.crosstab(df['actual'], df['predicted'], rownames=['Actual'], colnames=['Predicted'])\n",
    "confusion_matrix"
   ]
  },
  {
   "cell_type": "code",
   "execution_count": 42,
   "metadata": {},
   "outputs": [
    {
     "name": "stdout",
     "output_type": "stream",
     "text": [
      "sensitivity: 0.44\n",
      "specificity: 0.88\n"
     ]
    }
   ],
   "source": [
    "#The sensitivity is TP/TP+FN\n",
    "sensitivity = 22/(22+28)\n",
    "print(\"sensitivity: \" + str(sensitivity))\n",
    "\n",
    "# specificity = TN/TN+FP\n",
    "specificity = 44/(44+6)\n",
    "print(\"specificity: \" + str(specificity))"
   ]
  },
  {
   "cell_type": "markdown",
   "metadata": {},
   "source": [
    "Using the average score to threshold seems to give a low sensitivity but high specificity. I notice that there are lots of false negatives. "
   ]
  },
  {
   "cell_type": "code",
   "execution_count": 68,
   "metadata": {},
   "outputs": [
    {
     "data": {
      "text/plain": [
       "<matplotlib.legend.Legend at 0x7faad53ace20>"
      ]
     },
     "execution_count": 68,
     "metadata": {},
     "output_type": "execute_result"
    },
    {
     "data": {
      "image/png": "[encoded data removed]",
      "text/plain": [
       "<Figure size 432x288 with 1 Axes>"
      ]
     },
     "metadata": {
      "needs_background": "light"
     },
     "output_type": "display_data"
    }
   ],
   "source": [
    "#pred = [x/max(all_scores) for x in all_scores]\n",
    "\n",
    "fpr, tpr, thresholds = roc_curve(df['actual'], all_scores)\n",
    "ns_probs = [False for _ in range(len(df['actual']))]\n",
    "ns_fpr, ns_tpr, _ = roc_curve(df['actual'], ns_probs)\n",
    "\n",
    "fig = plt.figure()\n",
    "ax = fig.add_subplot(111)\n",
    "\n",
    "plt.plot(ns_fpr, ns_tpr, linestyle='--', label='No Skill')\n",
    "plt.plot(fpr, tpr, marker='.', label='Local alignment')\n",
    "\n",
    "plt.title('ROC curve')\n",
    "plt.xlabel('False Positive Rate')\n",
    "plt.ylabel('True Positive Rate')\n",
    "ax.set_aspect('equal', adjustable='box')\n",
    "plt.legend()"
   ]
  },
  {
   "cell_type": "code",
   "execution_count": 55,
   "metadata": {},
   "outputs": [
    {
     "name": "stdout",
     "output_type": "stream",
     "text": [
      "AUC: 0.76\n"
     ]
    }
   ],
   "source": [
    "# calculate AUC\n",
    "auc = roc_auc_score(df['actual'], pred)\n",
    "print(\"AUC: \" + str(auc))"
   ]
  },
  {
   "cell_type": "markdown",
   "metadata": {},
   "source": [
    "From the AUC, using the average score as a threshold, you can see that algorithm performs at least better than the random line (AUC 0.5). However, you cannot determine the performance using just one threshold. You need to try many different thresholds to find the one that maximizes the AUC."
   ]
  },
  {
   "cell_type": "code",
   "execution_count": null,
   "metadata": {},
   "outputs": [],
   "source": [
    "sw = SmithWaterman(\"/Users/mtsui1/Documents/Classes/Algs/Project1/scoring_matrices/BLOSUM62.mat\")"
   ]
  },
  {
   "cell_type": "code",
   "execution_count": null,
   "metadata": {},
   "outputs": [],
   "source": [
    "pos_scores_gaps = {}\n",
    "\n",
    "for gap_open in range(1,21):\n",
    "    sw.set_gap_open(-gap_open)\n",
    "    for gap_extend in range(1,6):\n",
    "        scores = []\n",
    "        sw.set_gap_extend(-gap_extend)\n",
    "        for pair in pos_pairs:\n",
    "            score = sw.align(pair[0], pair[1], return_alignment=False)\n",
    "            scores.append(score)\n",
    "        pos_scores_gaps[(gap_open, gap_extend)] = scores\n",
    "        print(gap_open, gap_extend)\n"
   ]
  },
  {
   "cell_type": "code",
   "execution_count": null,
   "metadata": {},
   "outputs": [],
   "source": [
    "new = {}\n",
    "for k,v in pos_scores_gaps.items():\n",
    "    new[str(k)] = v\n",
    "    "
   ]
  },
  {
   "cell_type": "code",
   "execution_count": null,
   "metadata": {},
   "outputs": [],
   "source": [
    "with open('./pos_scores_gaps.json', 'w') as f:\n",
    "    json.dump(new, f)"
   ]
  },
  {
   "cell_type": "code",
   "execution_count": 58,
   "metadata": {},
   "outputs": [],
   "source": [
    "import json\n",
    "\n",
    "with open('./pos_scores_gaps.json') as f:\n",
    "    pos_scores_gaps = json.load(f)\n",
    "    \n",
    "with open('./neg_scores_gaps.json') as f:\n",
    "    neg_scores_gaps = json.load(f)"
   ]
  },
  {
   "cell_type": "code",
   "execution_count": null,
   "metadata": {
    "scrolled": true
   },
   "outputs": [],
   "source": [
    "neg_scores_gaps = {}\n",
    "\n",
    "for gap_open in range(1,21):\n",
    "    sw.set_gap_open(-gap_open)\n",
    "    for gap_extend in range(1,6):\n",
    "        scores = []\n",
    "        sw.set_gap_extend(-gap_extend)\n",
    "        for pair in neg_pairs:\n",
    "            score = sw.align(pair[0], pair[1], return_alignment=False)\n",
    "            scores.append(score)\n",
    "        neg_scores_gaps[str((gap_open, gap_extend))] = scores\n",
    "        print(gap_open, gap_extend)\n"
   ]
  },
  {
   "cell_type": "code",
   "execution_count": null,
   "metadata": {},
   "outputs": [],
   "source": [
    "len(neg_scores_gaps)"
   ]
  },
  {
   "cell_type": "code",
   "execution_count": null,
   "metadata": {},
   "outputs": [],
   "source": [
    "with open('./neg_scores_gaps.json', 'w') as f:\n",
    "    json.dump(neg_scores_gaps, f)"
   ]
  },
  {
   "cell_type": "code",
   "execution_count": 61,
   "metadata": {},
   "outputs": [],
   "source": [
    "import pandas as pd\n",
    "\n",
    "aucs = {}\n",
    "\n",
    "# First 50 scores are true positive, last 50 are true negative\n",
    "actual = list(np.repeat(True, 50))  + list(np.repeat(False, 50))\n",
    "\n",
    "for k,v in pos_scores_gaps.items():\n",
    "    all_scores = pos_scores_gaps[k] + neg_scores_gaps[k]\n",
    "    #pred = [x/max(all_scores) for x in all_scores]\n",
    "    #avg_score = np.mean(all_scores)\n",
    "    #pred_scores = all_scores > avg_score\n",
    "    auc = roc_auc_score(actual, all_scores)\n",
    "    aucs[k] = auc\n",
    "\n"
   ]
  },
  {
   "cell_type": "code",
   "execution_count": 62,
   "metadata": {},
   "outputs": [
    {
     "name": "stdout",
     "output_type": "stream",
     "text": [
      "(2, 3) 0.8432\n"
     ]
    }
   ],
   "source": [
    "maximum = max(aucs, key=aucs.get)  # Just use 'min' instead of 'max' for minimum.\n",
    "print(maximum, aucs[maximum])\n",
    "# D 87"
   ]
  },
  {
   "cell_type": "code",
   "execution_count": 17,
   "metadata": {},
   "outputs": [],
   "source": [
    "nw = NeedlemanWunsch(\"./scoring_matrices/BLOSUM50.mat\")\n",
    "nw.set_gap_open(-2)\n",
    "nw.set_gap_extend(-3)"
   ]
  },
  {
   "cell_type": "code",
   "execution_count": 20,
   "metadata": {},
   "outputs": [],
   "source": [
    "pos_scores_BLOSUM50 = []\n",
    "for pair in pos_pairs:\n",
    "    score = nw.align(pair[0], pair[1], return_alignment=False)\n",
    "    pos_scores_BLOSUM50.append(score)\n",
    "    \n",
    "neg_scores_BLOSUM50 = []\n",
    "for pair in neg_pairs:\n",
    "    score = nw.align(pair[0], pair[1], return_alignment=False)\n",
    "    neg_scores_BLOSUM50.append(score)"
   ]
  },
  {
   "cell_type": "code",
   "execution_count": 21,
   "metadata": {},
   "outputs": [],
   "source": [
    "nw.set_score_mat(\"./scoring_matrices/BLOSUM62.mat\")\n",
    "pos_scores_BLOSUM62 = []\n",
    "for pair in pos_pairs:\n",
    "    score = nw.align(pair[0], pair[1], return_alignment=False)\n",
    "    pos_scores_BLOSUM62.append(score)\n",
    "    \n",
    "neg_scores_BLOSUM62 = []\n",
    "for pair in neg_pairs:\n",
    "    score = nw.align(pair[0], pair[1], return_alignment=False)\n",
    "    neg_scores_BLOSUM62.append(score)"
   ]
  },
  {
   "cell_type": "code",
   "execution_count": 22,
   "metadata": {},
   "outputs": [],
   "source": [
    "nw.set_score_mat(\"./scoring_matrices/PAM100.mat\")\n",
    "pos_scores_PAM100 = []\n",
    "for pair in pos_pairs:\n",
    "    score = nw.align(pair[0], pair[1], return_alignment=False)\n",
    "    pos_scores_PAM100.append(score)\n",
    "    \n",
    "neg_scores_PAM100 = []\n",
    "for pair in neg_pairs:\n",
    "    score = nw.align(pair[0], pair[1], return_alignment=False)\n",
    "    neg_scores_PAM100.append(score)"
   ]
  },
  {
   "cell_type": "code",
   "execution_count": 23,
   "metadata": {},
   "outputs": [],
   "source": [
    "nw.set_score_mat(\"./scoring_matrices/PAM250.mat\")\n",
    "pos_scores_PAM250 = []\n",
    "for pair in pos_pairs:\n",
    "    score = nw.align(pair[0], pair[1], return_alignment=False)\n",
    "    pos_scores_PAM250.append(score)\n",
    "    \n",
    "neg_scores_PAM250 = []\n",
    "for pair in neg_pairs:\n",
    "    score = nw.align(pair[0], pair[1], return_alignment=False)\n",
    "    neg_scores_PAM250.append(score)"
   ]
  },
  {
   "cell_type": "code",
   "execution_count": 70,
   "metadata": {},
   "outputs": [],
   "source": [
    "sw = SmithWaterman(\"./scoring_matrices/BLOSUM50.mat\")\n",
    "sw.set_gap_open(-2)\n",
    "sw.set_gap_extend(-3)"
   ]
  },
  {
   "cell_type": "code",
   "execution_count": 71,
   "metadata": {},
   "outputs": [],
   "source": [
    "pos_scores_BLOSUM50_sw = []\n",
    "for pair in pos_pairs:\n",
    "    score = sw.align(pair[0], pair[1], return_alignment=False)\n",
    "    pos_scores_BLOSUM50_sw.append(score)\n",
    "    \n",
    "neg_scores_BLOSUM50_sw = []\n",
    "for pair in neg_pairs:\n",
    "    score = sw.align(pair[0], pair[1], return_alignment=False)\n",
    "    neg_scores_BLOSUM50_sw.append(score)"
   ]
  },
  {
   "cell_type": "code",
   "execution_count": 75,
   "metadata": {},
   "outputs": [],
   "source": [
    "sw.set_score_mat(\"./scoring_matrices/BLOSUM62.mat\")\n",
    "pos_scores_BLOSUM62_sw = []\n",
    "for pair in pos_pairs:\n",
    "    score = sw.align(pair[0], pair[1], return_alignment=False)\n",
    "    pos_scores_BLOSUM62_sw.append(score)\n",
    "    \n",
    "neg_scores_BLOSUM62_sw = []\n",
    "for pair in neg_pairs:\n",
    "    score = sw.align(pair[0], pair[1], return_alignment=False)\n",
    "    pos_scores_BLOSUM62_sw.append(score)"
   ]
  },
  {
   "cell_type": "code",
   "execution_count": 77,
   "metadata": {},
   "outputs": [],
   "source": [
    "sw.set_score_mat(\"./scoring_matrices/PAM100.mat\")\n",
    "pos_scores_PAM100_sw = []\n",
    "for pair in pos_pairs:\n",
    "    score = sw.align(pair[0], pair[1], return_alignment=False)\n",
    "    pos_scores_PAM100_sw.append(score)\n",
    "    \n",
    "neg_scores_PAM100_sw = []\n",
    "for pair in neg_pairs:\n",
    "    score = sw.align(pair[0], pair[1], return_alignment=False)\n",
    "    pos_scores_PAM100_sw.append(score)"
   ]
  },
  {
   "cell_type": "code",
   "execution_count": 78,
   "metadata": {},
   "outputs": [],
   "source": [
    "sw.set_score_mat(\"./scoring_matrices/PAM250.mat\")\n",
    "pos_scores_PAM250_sw = []\n",
    "for pair in pos_pairs:\n",
    "    score = sw.align(pair[0], pair[1], return_alignment=False)\n",
    "    pos_scores_PAM250_sw.append(score)\n",
    "    \n",
    "neg_scores_PAM250_sw = []\n",
    "for pair in neg_pairs:\n",
    "    score = sw.align(pair[0], pair[1], return_alignment=False)\n",
    "    pos_scores_PAM250_sw.append(score)"
   ]
  },
  {
   "cell_type": "code",
   "execution_count": 80,
   "metadata": {},
   "outputs": [],
   "source": [
    "nw_dict = {\n",
    "    'nw_all_blosum50':pos_scores_BLOSUM50 + neg_scores_BLOSUM50,\n",
    "    'nw_all_blosum62':pos_scores_BLOSUM62 + neg_scores_BLOSUM62,\n",
    "    'nw_all_pam100':pos_scores_PAM100 + neg_scores_PAM100,\n",
    "    'nw_all_pam250':pos_scores_PAM250 + neg_scores_PAM250,\n",
    "}\n"
   ]
  },
  {
   "cell_type": "code",
   "execution_count": 81,
   "metadata": {},
   "outputs": [],
   "source": [
    "sw_dict = {\n",
    "    'sw_all_blosum50':pos_scores_BLOSUM50_sw + neg_scores_BLOSUM50_sw,\n",
    "    'sw_all_blosum62':pos_scores_BLOSUM62_sw + neg_scores_BLOSUM62_sw,\n",
    "    'sw_all_pam100':pos_scores_PAM100_sw + neg_scores_PAM100_sw,\n",
    "    'sw_all_pam250':pos_scores_PAM250_sw + neg_scores_PAM250_sw,\n",
    "}"
   ]
  },
  {
   "cell_type": "code",
   "execution_count": 85,
   "metadata": {},
   "outputs": [
    {
     "data": {
      "text/html": [
       "<div>\n",
       "<style scoped>\n",
       "    .dataframe tbody tr th:only-of-type {\n",
       "        vertical-align: middle;\n",
       "    }\n",
       "\n",
       "    .dataframe tbody tr th {\n",
       "        vertical-align: top;\n",
       "    }\n",
       "\n",
       "    .dataframe thead th {\n",
       "        text-align: right;\n",
       "    }\n",
       "</style>\n",
       "<table border=\"1\" class=\"dataframe\">\n",
       "  <thead>\n",
       "    <tr style=\"text-align: right;\">\n",
       "      <th></th>\n",
       "      <th>fpr</th>\n",
       "      <th>tpr</th>\n",
       "      <th>auc</th>\n",
       "    </tr>\n",
       "    <tr>\n",
       "      <th>score_mat</th>\n",
       "      <th></th>\n",
       "      <th></th>\n",
       "      <th></th>\n",
       "    </tr>\n",
       "  </thead>\n",
       "  <tbody>\n",
       "    <tr>\n",
       "      <th>sw_all_blosum50</th>\n",
       "      <td>[0.0, 0.0, 0.0, 0.02, 0.02, 0.04, 0.04, 0.06, ...</td>\n",
       "      <td>[0.0, 0.02, 0.2, 0.2, 0.3, 0.3, 0.32, 0.34, 0....</td>\n",
       "      <td>0.8078</td>\n",
       "    </tr>\n",
       "    <tr>\n",
       "      <th>sw_all_blosum62</th>\n",
       "      <td>[0.0, 0.0, 0.0, 0.0, 0.0, 0.0, 0.02, 0.02, 0.0...</td>\n",
       "      <td>[0.0, 0.02, 0.14, 0.22, 0.26, 0.3, 0.32, 0.4, ...</td>\n",
       "      <td>0.8432</td>\n",
       "    </tr>\n",
       "    <tr>\n",
       "      <th>sw_all_pam100</th>\n",
       "      <td>[0.0, 0.0, 0.0, 0.0, 0.0, 0.0, 0.0, 0.06, 0.06...</td>\n",
       "      <td>[0.0, 0.02, 0.16, 0.2, 0.24, 0.28, 0.3, 0.42, ...</td>\n",
       "      <td>0.8408</td>\n",
       "    </tr>\n",
       "    <tr>\n",
       "      <th>sw_all_pam250</th>\n",
       "      <td>[0.0, 0.0, 0.0, 0.0, 0.02, 0.02, 0.02, 0.04, 0...</td>\n",
       "      <td>[0.0, 0.02, 0.06, 0.18, 0.18, 0.2, 0.24, 0.26,...</td>\n",
       "      <td>0.7898</td>\n",
       "    </tr>\n",
       "  </tbody>\n",
       "</table>\n",
       "</div>"
      ],
      "text/plain": [
       "                                                               fpr  \\\n",
       "score_mat                                                            \n",
       "sw_all_blosum50  [0.0, 0.0, 0.0, 0.02, 0.02, 0.04, 0.04, 0.06, ...   \n",
       "sw_all_blosum62  [0.0, 0.0, 0.0, 0.0, 0.0, 0.0, 0.02, 0.02, 0.0...   \n",
       "sw_all_pam100    [0.0, 0.0, 0.0, 0.0, 0.0, 0.0, 0.0, 0.06, 0.06...   \n",
       "sw_all_pam250    [0.0, 0.0, 0.0, 0.0, 0.02, 0.02, 0.02, 0.04, 0...   \n",
       "\n",
       "                                                               tpr     auc  \n",
       "score_mat                                                                   \n",
       "sw_all_blosum50  [0.0, 0.02, 0.2, 0.2, 0.3, 0.3, 0.32, 0.34, 0....  0.8078  \n",
       "sw_all_blosum62  [0.0, 0.02, 0.14, 0.22, 0.26, 0.3, 0.32, 0.4, ...  0.8432  \n",
       "sw_all_pam100    [0.0, 0.02, 0.16, 0.2, 0.24, 0.28, 0.3, 0.42, ...  0.8408  \n",
       "sw_all_pam250    [0.0, 0.02, 0.06, 0.18, 0.18, 0.2, 0.24, 0.26,...  0.7898  "
      ]
     },
     "execution_count": 85,
     "metadata": {},
     "output_type": "execute_result"
    }
   ],
   "source": [
    "# First 50 scores are true positive, last 50 are true negative\n",
    "actual = list(np.repeat(True, 50))  + list(np.repeat(False, 50))\n",
    "result_table = pd.DataFrame(columns=['score_mat', 'fpr','tpr','auc'])\n",
    "\n",
    "for k,v in sw_dict.items():  \n",
    "    fpr, tpr, _ = roc_curve(actual,  v)\n",
    "    auc = roc_auc_score(actual, v)\n",
    "    \n",
    "    result_table = result_table.append({'score_mat':k,\n",
    "                                        'fpr':fpr, \n",
    "                                        'tpr':tpr, \n",
    "                                        'auc':auc}, ignore_index=True)\n",
    "\n",
    "# Set name of the classifiers as index labels\n",
    "result_table.set_index('score_mat', inplace=True)\n",
    "result_table"
   ]
  },
  {
   "cell_type": "code",
   "execution_count": 86,
   "metadata": {},
   "outputs": [
    {
     "data": {
      "image/png": "[encoded data removed]",
      "text/plain": [
       "<Figure size 576x432 with 1 Axes>"
      ]
     },
     "metadata": {
      "needs_background": "light"
     },
     "output_type": "display_data"
    }
   ],
   "source": [
    "# sw ROC\n",
    "\n",
    "fig = plt.figure(figsize=(8,6))\n",
    "\n",
    "for i in result_table.index:\n",
    "    plt.plot(result_table.loc[i]['fpr'], \n",
    "             result_table.loc[i]['tpr'], \n",
    "             label=\"{}, AUC={:.3f}\".format(i, result_table.loc[i]['auc']))\n",
    "    \n",
    "plt.plot([0,1], [0,1], color='orange', linestyle='--')\n",
    "\n",
    "plt.xticks(np.arange(0.0, 1.1, step=0.1))\n",
    "plt.xlabel(\"Flase Positive Rate\", fontsize=15)\n",
    "\n",
    "plt.yticks(np.arange(0.0, 1.1, step=0.1))\n",
    "plt.ylabel(\"True Positive Rate\", fontsize=15)\n",
    "\n",
    "plt.title('ROC Curve Analysis', fontweight='bold', fontsize=15)\n",
    "plt.legend(prop={'size':13}, loc='lower right')\n",
    "\n",
    "plt.show()"
   ]
  },
  {
   "cell_type": "code",
   "execution_count": 88,
   "metadata": {},
   "outputs": [
    {
     "data": {
      "text/html": [
       "<div>\n",
       "<style scoped>\n",
       "    .dataframe tbody tr th:only-of-type {\n",
       "        vertical-align: middle;\n",
       "    }\n",
       "\n",
       "    .dataframe tbody tr th {\n",
       "        vertical-align: top;\n",
       "    }\n",
       "\n",
       "    .dataframe thead th {\n",
       "        text-align: right;\n",
       "    }\n",
       "</style>\n",
       "<table border=\"1\" class=\"dataframe\">\n",
       "  <thead>\n",
       "    <tr style=\"text-align: right;\">\n",
       "      <th></th>\n",
       "      <th>fpr</th>\n",
       "      <th>tpr</th>\n",
       "      <th>auc</th>\n",
       "    </tr>\n",
       "    <tr>\n",
       "      <th>score_mat</th>\n",
       "      <th></th>\n",
       "      <th></th>\n",
       "      <th></th>\n",
       "    </tr>\n",
       "  </thead>\n",
       "  <tbody>\n",
       "    <tr>\n",
       "      <th>nw_all_blosum50</th>\n",
       "      <td>[0.0, 0.0, 0.0, 0.02, 0.02, 0.04, 0.04, 0.06, ...</td>\n",
       "      <td>[0.0, 0.02, 0.12, 0.12, 0.28, 0.3, 0.34, 0.34,...</td>\n",
       "      <td>0.8252</td>\n",
       "    </tr>\n",
       "    <tr>\n",
       "      <th>nw_all_blosum62</th>\n",
       "      <td>[0.0, 0.0, 0.0, 0.0, 0.0, 0.02, 0.04, 0.04, 0....</td>\n",
       "      <td>[0.0, 0.02, 0.18, 0.22, 0.24, 0.24, 0.28, 0.34...</td>\n",
       "      <td>0.7814</td>\n",
       "    </tr>\n",
       "    <tr>\n",
       "      <th>nw_all_pam100</th>\n",
       "      <td>[0.0, 0.0, 0.0, 0.0, 0.0, 0.0, 0.02, 0.02, 0.0...</td>\n",
       "      <td>[0.0, 0.02, 0.06, 0.1, 0.26, 0.3, 0.32, 0.34, ...</td>\n",
       "      <td>0.7632</td>\n",
       "    </tr>\n",
       "    <tr>\n",
       "      <th>nw_all_pam250</th>\n",
       "      <td>[0.0, 0.0, 0.0, 0.02, 0.02, 0.02, 0.02, 0.02, ...</td>\n",
       "      <td>[0.0, 0.02, 0.12, 0.12, 0.14, 0.2, 0.24, 0.28,...</td>\n",
       "      <td>0.8112</td>\n",
       "    </tr>\n",
       "  </tbody>\n",
       "</table>\n",
       "</div>"
      ],
      "text/plain": [
       "                                                               fpr  \\\n",
       "score_mat                                                            \n",
       "nw_all_blosum50  [0.0, 0.0, 0.0, 0.02, 0.02, 0.04, 0.04, 0.06, ...   \n",
       "nw_all_blosum62  [0.0, 0.0, 0.0, 0.0, 0.0, 0.02, 0.04, 0.04, 0....   \n",
       "nw_all_pam100    [0.0, 0.0, 0.0, 0.0, 0.0, 0.0, 0.02, 0.02, 0.0...   \n",
       "nw_all_pam250    [0.0, 0.0, 0.0, 0.02, 0.02, 0.02, 0.02, 0.02, ...   \n",
       "\n",
       "                                                               tpr     auc  \n",
       "score_mat                                                                   \n",
       "nw_all_blosum50  [0.0, 0.02, 0.12, 0.12, 0.28, 0.3, 0.34, 0.34,...  0.8252  \n",
       "nw_all_blosum62  [0.0, 0.02, 0.18, 0.22, 0.24, 0.24, 0.28, 0.34...  0.7814  \n",
       "nw_all_pam100    [0.0, 0.02, 0.06, 0.1, 0.26, 0.3, 0.32, 0.34, ...  0.7632  \n",
       "nw_all_pam250    [0.0, 0.02, 0.12, 0.12, 0.14, 0.2, 0.24, 0.28,...  0.8112  "
      ]
     },
     "execution_count": 88,
     "metadata": {},
     "output_type": "execute_result"
    }
   ],
   "source": [
    "# First 50 scores are true positive, last 50 are true negative\n",
    "actual = list(np.repeat(True, 50))  + list(np.repeat(False, 50))\n",
    "result_table = pd.DataFrame(columns=['score_mat', 'fpr','tpr','auc'])\n",
    "\n",
    "for k,v in nw_dict.items():  \n",
    "    fpr, tpr, _ = roc_curve(actual,  v)\n",
    "    auc = roc_auc_score(actual, v)\n",
    "    \n",
    "    result_table = result_table.append({'score_mat':k,\n",
    "                                        'fpr':fpr, \n",
    "                                        'tpr':tpr, \n",
    "                                        'auc':auc}, ignore_index=True)\n",
    "\n",
    "# Set name of the classifiers as index labels\n",
    "result_table.set_index('score_mat', inplace=True)\n",
    "result_table"
   ]
  },
  {
   "cell_type": "code",
   "execution_count": 90,
   "metadata": {},
   "outputs": [
    {
     "data": {
      "image/png": "[encoded data removed]",
      "text/plain": [
       "<Figure size 576x432 with 1 Axes>"
      ]
     },
     "metadata": {
      "needs_background": "light"
     },
     "output_type": "display_data"
    }
   ],
   "source": [
    "# nw ROC\n",
    "\n",
    "fig = plt.figure(figsize=(8,6))\n",
    "\n",
    "for i in result_table.index:\n",
    "    plt.plot(result_table.loc[i]['fpr'], \n",
    "             result_table.loc[i]['tpr'], \n",
    "             label=\"{}, AUC={:.3f}\".format(i, result_table.loc[i]['auc']))\n",
    "    \n",
    "plt.plot([0,1], [0,1], color='orange', linestyle='--')\n",
    "\n",
    "plt.xticks(np.arange(0.0, 1.1, step=0.1))\n",
    "plt.xlabel(\"False Positive Rate\", fontsize=15)\n",
    "\n",
    "plt.yticks(np.arange(0.0, 1.1, step=0.1))\n",
    "plt.ylabel(\"True Positive Rate\", fontsize=15)\n",
    "\n",
    "plt.title('ROC Curve Analysis', fontweight='bold', fontsize=15)\n",
    "plt.legend(prop={'size':13}, loc='lower right')\n",
    "\n",
    "plt.show()"
   ]
  },
  {
   "cell_type": "code",
   "execution_count": 91,
   "metadata": {},
   "outputs": [],
   "source": [
    "nw = NeedlemanWunsch(\"./scoring_matrices/BLOSUM50.mat\")\n",
    "nw.set_gap_open(-3)\n",
    "nw.set_gap_extend(-1)"
   ]
  },
  {
   "cell_type": "code",
   "execution_count": null,
   "metadata": {},
   "outputs": [],
   "source": []
  }
 ],
 "metadata": {
  "kernelspec": {
   "display_name": "Python 3",
   "language": "python",
   "name": "python3"
  },
  "language_info": {
   "codemirror_mode": {
    "name": "ipython",
    "version": 3
   },
   "file_extension": ".py",
   "mimetype": "text/x-python",
   "name": "python",
   "nbconvert_exporter": "python",
   "pygments_lexer": "ipython3",
   "version": "3.8.3"
  }
 },
 "nbformat": 4,
 "nbformat_minor": 4
}
