{
 "cells": [
  {
   "cell_type": "markdown",
   "metadata": {},
   "source": [
    "## Part 1"
   ]
  },
  {
   "cell_type": "markdown",
   "metadata": {},
   "source": [
    "1) For both Smith-Waterman and Needleman-Wunsch algorithms:\n",
    "    a) What are the parameters and variables required for algorithm initialization, execution, and termination?\n",
    "    b) What quantities are returned?\n",
    "    c) What is the runtime complexity?\n",
    "    \n",
    "    Smith-Waterman:\n",
    "        a) Parameters:\n",
    "            Initialization:\n",
    "                a) seq1: First protein sequence\n",
    "                b) seq2: Second protein sequence\n",
    "                c) smat: scoring matrix\n",
    "            Execution:\n",
    "                a) scores: matrix of size M x N that records scores of optimal alignment\n",
    "                b) traceback: matrix of size M x N that records previous cell from which each cell was computed from\n",
    "            Termination:\n",
    "                a) result: optimal alignment string\n",
    "        b) Returns: Optimal sub-alignment with positive scores\n",
    "        c) Complexity: O(MxN)\n",
    "\n",
    "    Needleman-Wunsch:\n",
    "        a) Parameters:\n",
    "            Initialization:\n",
    "                a) seq1: First protein sequence\n",
    "                b) seq2: Second protein sequence\n",
    "                c) smat: scoring matrix\n",
    "            Execution:\n",
    "                a) scores: matrix of size M x N that records scores of optimal alignment\n",
    "                b) traceback: matrix of size M x N that records previous cell from which each cell was computed from\n",
    "            Termination:\n",
    "                a) result: optimal alignment string\n",
    "        b) Returns: Full alignment string of sequence \n",
    "        c) Complexity: O(MxN)\n",
    "\n",
    "2) What functionalities in initialization, execution and termination are shared between these algorithms? Which are not shared?\n",
    "\n",
    "    Initialization: Both methods initialize and M x N matrix where M is the length of seq1 and N is the length of seq2. However, in initializing the SW matrix, you set the first row and first column to 0. \n",
    "    \n",
    "    Execution: Both methods share methods for calculating the score at a particular cell in the matrix. This entails taking the max of the three following scores:\n",
    "        a) Gap from left to right\n",
    "        b) Gap from top to bottom\n",
    "        c) Match\n",
    "    However, SW adds an extra option where you can reset to 0 if the score goes negative.\n",
    "    \n",
    "    Termination: Both methods have to use the traceback matrix to return an alignment. NW must start at the lower rightmost cell and trace back all the way to the start and return that string. SW needs to start at the max element in the matrix and trace back until a 0 is reached, then return the resulting string.\n",
    "\n",
    "3) How does affine-gap based alignment differ from linear-gap alignment in terms of implementation?\n",
    "    \n",
    "    Affine gap alignment requires you to keep track of the gap status of the previous cell when computing the score of the current cell (gap start, match/mismatch, gap extension). To return the optimal alignment you need two extra score matrices, one for seq1 and one for seq2, which keep track of the max score of either opening or extending a gap at the current cell. For the final traceback you would need to interface between the original score matrix and these two extra matrices to get the alignment."
   ]
  },
  {
   "cell_type": "code",
   "execution_count": null,
   "metadata": {},
   "outputs": [],
   "source": [
    "f = open(\"./sequences/prot-0088.fa\",'r').read()\n",
    "print(f)"
   ]
  },
  {
   "cell_type": "code",
   "execution_count": null,
   "metadata": {},
   "outputs": [],
   "source": [
    "sw = SmithWaterman(\"/Users/mtsui1/Documents/Classes/Algs/Project1/scoring_matrices/BLOSUM50.mat\")\n",
    "scores, alignment = sw.align(\"./sequences/test1.fa\", \"./sequences/test2.fa\")\n",
    "print(scores)\n",
    "print(alignment)"
   ]
  },
  {
   "cell_type": "markdown",
   "metadata": {},
   "source": [
    "## Part 2"
   ]
  },
  {
   "cell_type": "code",
   "execution_count": 1,
   "metadata": {},
   "outputs": [],
   "source": [
    "# read Pospairs and negpairs into a list\n",
    "\n",
    "f = open(\"./scoring_matrices/Pospairs.txt\",'r')\n",
    "lines = f.readlines() # skip header\n",
    "pos_pairs = []\n",
    "for line in lines:\n",
    "    line = line.strip()\n",
    "    line = [i for i in line.split(\" \") if i != \"\"]\n",
    "    pos_pairs.append(line)\n",
    "    \n",
    "f = open(\"./scoring_matrices/Negpairs.txt\",'r')\n",
    "lines = f.readlines() # skip header\n",
    "neg_pairs = []\n",
    "for line in lines:\n",
    "    line = line.strip()\n",
    "    line = [i for i in line.split(\" \") if i != \"\"]\n",
    "    neg_pairs.append(line)"
   ]
  },
  {
   "cell_type": "code",
   "execution_count": 13,
   "metadata": {},
   "outputs": [],
   "source": [
    "from align.algs import *"
   ]
  },
  {
   "cell_type": "code",
   "execution_count": 14,
   "metadata": {},
   "outputs": [],
   "source": [
    "sw = SmithWaterman(\"/Users/mtsui1/Documents/Classes/Algs/Project1/scoring_matrices/BLOSUM50.mat\")"
   ]
  },
  {
   "cell_type": "code",
   "execution_count": 15,
   "metadata": {},
   "outputs": [],
   "source": [
    "sw.set_gap_open(-11)\n",
    "sw.set_gap_extend(-3)"
   ]
  },
  {
   "cell_type": "code",
   "execution_count": 5,
   "metadata": {},
   "outputs": [
    {
     "data": {
      "text/plain": [
       "50"
      ]
     },
     "execution_count": 5,
     "metadata": {},
     "output_type": "execute_result"
    }
   ],
   "source": [
    "len(pos_pairs)"
   ]
  },
  {
   "cell_type": "code",
   "execution_count": 6,
   "metadata": {},
   "outputs": [
    {
     "data": {
      "text/plain": [
       "50"
      ]
     },
     "execution_count": 6,
     "metadata": {},
     "output_type": "execute_result"
    }
   ],
   "source": [
    "len(neg_pairs)"
   ]
  },
  {
   "cell_type": "code",
   "execution_count": null,
   "metadata": {},
   "outputs": [],
   "source": [
    "pos_pairs[0][0]"
   ]
  },
  {
   "cell_type": "code",
   "execution_count": 7,
   "metadata": {},
   "outputs": [
    {
     "name": "stdout",
     "output_type": "stream",
     "text": [
      "['sequences/prot-0004.fa', 'sequences/prot-0008.fa']\n",
      "['sequences/prot-0031.fa', 'sequences/prot-0034.fa']\n",
      "['sequences/prot-0047.fa', 'sequences/prot-0050.fa']\n",
      "['sequences/prot-0065.fa', 'sequences/prot-0069.fa']\n",
      "['sequences/prot-0077.fa', 'sequences/prot-0082.fa']\n",
      "['sequences/prot-0098.fa', 'sequences/prot-0102.fa']\n",
      "['sequences/prot-0124.fa', 'sequences/prot-0125.fa']\n",
      "['sequences/prot-0166.fa', 'sequences/prot-0177.fa']\n",
      "['sequences/prot-0170.fa', 'sequences/prot-0173.fa']\n",
      "['sequences/prot-0175.fa', 'sequences/prot-0178.fa']\n",
      "['sequences/prot-0187.fa', 'sequences/prot-0190.fa']\n",
      "['sequences/prot-0240.fa', 'sequences/prot-0242.fa']\n",
      "['sequences/prot-0271.fa', 'sequences/prot-0275.fa']\n",
      "['sequences/prot-0298.fa', 'sequences/prot-0300.fa']\n",
      "['sequences/prot-0326.fa', 'sequences/prot-0327.fa']\n",
      "['sequences/prot-0354.fa', 'sequences/prot-0355.fa']\n",
      "['sequences/prot-0357.fa', 'sequences/prot-0360.fa']\n",
      "['sequences/prot-0361.fa', 'sequences/prot-0364.fa']\n",
      "['sequences/prot-0369.fa', 'sequences/prot-0370.fa']\n",
      "['sequences/prot-0380.fa', 'sequences/prot-0384.fa']\n",
      "['sequences/prot-0384.fa', 'sequences/prot-0392.fa']\n",
      "['sequences/prot-0410.fa', 'sequences/prot-0412.fa']\n",
      "['sequences/prot-0459.fa', 'sequences/prot-0461.fa']\n",
      "['sequences/prot-0465.fa', 'sequences/prot-0466.fa']\n",
      "['sequences/prot-0484.fa', 'sequences/prot-0485.fa']\n",
      "['sequences/prot-0507.fa', 'sequences/prot-0509.fa']\n",
      "['sequences/prot-0533.fa', 'sequences/prot-0534.fa']\n",
      "['sequences/prot-0570.fa', 'sequences/prot-0572.fa']\n",
      "['sequences/prot-0580.fa', 'sequences/prot-0615.fa']\n",
      "['sequences/prot-0582.fa', 'sequences/prot-0586.fa']\n",
      "['sequences/prot-0583.fa', 'sequences/prot-0598.fa']\n",
      "['sequences/prot-0584.fa', 'sequences/prot-0611.fa']\n",
      "['sequences/prot-0586.fa', 'sequences/prot-0590.fa']\n",
      "['sequences/prot-0587.fa', 'sequences/prot-0606.fa']\n",
      "['sequences/prot-0589.fa', 'sequences/prot-0591.fa']\n",
      "['sequences/prot-0590.fa', 'sequences/prot-0610.fa']\n",
      "['sequences/prot-0592.fa', 'sequences/prot-0601.fa']\n",
      "['sequences/prot-0594.fa', 'sequences/prot-0596.fa']\n",
      "['sequences/prot-0595.fa', 'sequences/prot-0620.fa']\n",
      "['sequences/prot-0597.fa', 'sequences/prot-0621.fa']\n",
      "['sequences/prot-0600.fa', 'sequences/prot-0605.fa']\n",
      "['sequences/prot-0602.fa', 'sequences/prot-0616.fa']\n",
      "['sequences/prot-0605.fa', 'sequences/prot-0615.fa']\n",
      "['sequences/prot-0609.fa', 'sequences/prot-0611.fa']\n",
      "['sequences/prot-0614.fa', 'sequences/prot-0616.fa']\n",
      "['sequences/prot-0659.fa', 'sequences/prot-0661.fa']\n",
      "['sequences/prot-0735.fa', 'sequences/prot-0736.fa']\n",
      "['sequences/prot-0776.fa', 'sequences/prot-0779.fa']\n",
      "['sequences/prot-0829.fa', 'sequences/prot-0832.fa']\n",
      "['sequences/prot-0860.fa', 'sequences/prot-0862.fa']\n"
     ]
    }
   ],
   "source": [
    "pos_scores = {}\n",
    "for pair in pos_pairs:\n",
    "    print(pair)\n",
    "    score = sw.align(pair[0], pair[1], return_alignment=False)\n",
    "\n",
    "    pos_scores[(pair[0], pair[1])] = score"
   ]
  },
  {
   "cell_type": "code",
   "execution_count": 8,
   "metadata": {},
   "outputs": [
    {
     "data": {
      "text/plain": [
       "{('sequences/prot-0004.fa', 'sequences/prot-0008.fa'): 42.0,\n",
       " ('sequences/prot-0031.fa', 'sequences/prot-0034.fa'): 49.0,\n",
       " ('sequences/prot-0047.fa', 'sequences/prot-0050.fa'): 37.0,\n",
       " ('sequences/prot-0065.fa', 'sequences/prot-0069.fa'): 79.0,\n",
       " ('sequences/prot-0077.fa', 'sequences/prot-0082.fa'): 69.0,\n",
       " ('sequences/prot-0098.fa', 'sequences/prot-0102.fa'): 34.0,\n",
       " ('sequences/prot-0124.fa', 'sequences/prot-0125.fa'): 50.0,\n",
       " ('sequences/prot-0166.fa', 'sequences/prot-0177.fa'): 31.0,\n",
       " ('sequences/prot-0170.fa', 'sequences/prot-0173.fa'): 31.0,\n",
       " ('sequences/prot-0175.fa', 'sequences/prot-0178.fa'): 34.0,\n",
       " ('sequences/prot-0187.fa', 'sequences/prot-0190.fa'): 32.0,\n",
       " ('sequences/prot-0240.fa', 'sequences/prot-0242.fa'): 36.0,\n",
       " ('sequences/prot-0271.fa', 'sequences/prot-0275.fa'): 53.0,\n",
       " ('sequences/prot-0298.fa', 'sequences/prot-0300.fa'): 41.0,\n",
       " ('sequences/prot-0326.fa', 'sequences/prot-0327.fa'): 120.0,\n",
       " ('sequences/prot-0354.fa', 'sequences/prot-0355.fa'): 32.0,\n",
       " ('sequences/prot-0357.fa', 'sequences/prot-0360.fa'): 33.0,\n",
       " ('sequences/prot-0361.fa', 'sequences/prot-0364.fa'): 50.0,\n",
       " ('sequences/prot-0369.fa', 'sequences/prot-0370.fa'): 49.0,\n",
       " ('sequences/prot-0380.fa', 'sequences/prot-0384.fa'): 57.0,\n",
       " ('sequences/prot-0384.fa', 'sequences/prot-0392.fa'): 51.0,\n",
       " ('sequences/prot-0410.fa', 'sequences/prot-0412.fa'): 42.0,\n",
       " ('sequences/prot-0459.fa', 'sequences/prot-0461.fa'): 44.0,\n",
       " ('sequences/prot-0465.fa', 'sequences/prot-0466.fa'): 44.0,\n",
       " ('sequences/prot-0484.fa', 'sequences/prot-0485.fa'): 106.0,\n",
       " ('sequences/prot-0507.fa', 'sequences/prot-0509.fa'): 36.0,\n",
       " ('sequences/prot-0533.fa', 'sequences/prot-0534.fa'): 57.0,\n",
       " ('sequences/prot-0570.fa', 'sequences/prot-0572.fa'): 54.0,\n",
       " ('sequences/prot-0580.fa', 'sequences/prot-0615.fa'): 36.0,\n",
       " ('sequences/prot-0582.fa', 'sequences/prot-0586.fa'): 37.0,\n",
       " ('sequences/prot-0583.fa', 'sequences/prot-0598.fa'): 52.0,\n",
       " ('sequences/prot-0584.fa', 'sequences/prot-0611.fa'): 42.0,\n",
       " ('sequences/prot-0586.fa', 'sequences/prot-0590.fa'): 50.0,\n",
       " ('sequences/prot-0587.fa', 'sequences/prot-0606.fa'): 48.0,\n",
       " ('sequences/prot-0589.fa', 'sequences/prot-0591.fa'): 39.0,\n",
       " ('sequences/prot-0590.fa', 'sequences/prot-0610.fa'): 46.0,\n",
       " ('sequences/prot-0592.fa', 'sequences/prot-0601.fa'): 42.0,\n",
       " ('sequences/prot-0594.fa', 'sequences/prot-0596.fa'): 40.0,\n",
       " ('sequences/prot-0595.fa', 'sequences/prot-0620.fa'): 37.0,\n",
       " ('sequences/prot-0597.fa', 'sequences/prot-0621.fa'): 32.0,\n",
       " ('sequences/prot-0600.fa', 'sequences/prot-0605.fa'): 33.0,\n",
       " ('sequences/prot-0602.fa', 'sequences/prot-0616.fa'): 33.0,\n",
       " ('sequences/prot-0605.fa', 'sequences/prot-0615.fa'): 41.0,\n",
       " ('sequences/prot-0609.fa', 'sequences/prot-0611.fa'): 67.0,\n",
       " ('sequences/prot-0614.fa', 'sequences/prot-0616.fa'): 140.0,\n",
       " ('sequences/prot-0659.fa', 'sequences/prot-0661.fa'): 41.0,\n",
       " ('sequences/prot-0735.fa', 'sequences/prot-0736.fa'): 47.0,\n",
       " ('sequences/prot-0776.fa', 'sequences/prot-0779.fa'): 358.0,\n",
       " ('sequences/prot-0829.fa', 'sequences/prot-0832.fa'): 76.0,\n",
       " ('sequences/prot-0860.fa', 'sequences/prot-0862.fa'): 44.0}"
      ]
     },
     "execution_count": 8,
     "metadata": {},
     "output_type": "execute_result"
    }
   ],
   "source": [
    "pos_scores"
   ]
  },
  {
   "cell_type": "code",
   "execution_count": null,
   "metadata": {},
   "outputs": [],
   "source": [
    "sw = algs.NeedlemanWunsch(\"/Users/mtsui1/Documents/Classes/Algs/Project1/scoring_matrices/BLOSUM50.mat\")\n",
    "#sw.set_gap_open(-11)\n",
    "#sw.set_gap_extend(-3)\n",
    "score, alignment = sw.align(\"sequences/test1.fa\", \"sequences/test2.fa\")\n",
    "print(score)\n",
    "print(alignment)"
   ]
  },
  {
   "cell_type": "code",
   "execution_count": 9,
   "metadata": {},
   "outputs": [
    {
     "name": "stdout",
     "output_type": "stream",
     "text": [
      "['sequences/prot-0018.fa', 'sequences/prot-0198.fa']\n",
      "['sequences/prot-0035.fa', 'sequences/prot-0071.fa']\n",
      "['sequences/prot-0056.fa', 'sequences/prot-0826.fa']\n",
      "['sequences/prot-0075.fa', 'sequences/prot-0561.fa']\n",
      "['sequences/prot-0093.fa', 'sequences/prot-0091.fa']\n",
      "['sequences/prot-0110.fa', 'sequences/prot-0613.fa']\n",
      "['sequences/prot-0131.fa', 'sequences/prot-0547.fa']\n",
      "['sequences/prot-0148.fa', 'sequences/prot-0369.fa']\n",
      "['sequences/prot-0166.fa', 'sequences/prot-0839.fa']\n",
      "['sequences/prot-0186.fa', 'sequences/prot-0014.fa']\n",
      "['sequences/prot-0206.fa', 'sequences/prot-0313.fa']\n",
      "['sequences/prot-0228.fa', 'sequences/prot-0121.fa']\n",
      "['sequences/prot-0244.fa', 'sequences/prot-0817.fa']\n",
      "['sequences/prot-0262.fa', 'sequences/prot-0540.fa']\n",
      "['sequences/prot-0286.fa', 'sequences/prot-0641.fa']\n",
      "['sequences/prot-0305.fa', 'sequences/prot-0785.fa']\n",
      "['sequences/prot-0326.fa', 'sequences/prot-0712.fa']\n",
      "['sequences/prot-0346.fa', 'sequences/prot-0063.fa']\n",
      "['sequences/prot-0363.fa', 'sequences/prot-0345.fa']\n",
      "['sequences/prot-0380.fa', 'sequences/prot-0553.fa']\n",
      "['sequences/prot-0397.fa', 'sequences/prot-0470.fa']\n",
      "['sequences/prot-0414.fa', 'sequences/prot-0903.fa']\n",
      "['sequences/prot-0431.fa', 'sequences/prot-0093.fa']\n",
      "['sequences/prot-0446.fa', 'sequences/prot-0424.fa']\n",
      "['sequences/prot-0469.fa', 'sequences/prot-0609.fa']\n",
      "['sequences/prot-0486.fa', 'sequences/prot-0314.fa']\n",
      "['sequences/prot-0503.fa', 'sequences/prot-0454.fa']\n",
      "['sequences/prot-0520.fa', 'sequences/prot-0088.fa']\n",
      "['sequences/prot-0536.fa', 'sequences/prot-0452.fa']\n",
      "['sequences/prot-0552.fa', 'sequences/prot-0460.fa']\n",
      "['sequences/prot-0571.fa', 'sequences/prot-0711.fa']\n",
      "['sequences/prot-0595.fa', 'sequences/prot-0503.fa']\n",
      "['sequences/prot-0616.fa', 'sequences/prot-0819.fa']\n",
      "['sequences/prot-0631.fa', 'sequences/prot-0386.fa']\n",
      "['sequences/prot-0648.fa', 'sequences/prot-0022.fa']\n",
      "['sequences/prot-0665.fa', 'sequences/prot-0100.fa']\n",
      "['sequences/prot-0682.fa', 'sequences/prot-0873.fa']\n",
      "['sequences/prot-0699.fa', 'sequences/prot-0760.fa']\n",
      "['sequences/prot-0716.fa', 'sequences/prot-0710.fa']\n",
      "['sequences/prot-0734.fa', 'sequences/prot-0108.fa']\n",
      "['sequences/prot-0750.fa', 'sequences/prot-0875.fa']\n",
      "['sequences/prot-0772.fa', 'sequences/prot-0886.fa']\n",
      "['sequences/prot-0791.fa', 'sequences/prot-0245.fa']\n",
      "['sequences/prot-0805.fa', 'sequences/prot-0261.fa']\n",
      "['sequences/prot-0821.fa', 'sequences/prot-0591.fa']\n",
      "['sequences/prot-0843.fa', 'sequences/prot-0026.fa']\n",
      "['sequences/prot-0860.fa', 'sequences/prot-0510.fa']\n",
      "['sequences/prot-0878.fa', 'sequences/prot-0524.fa']\n",
      "['sequences/prot-0900.fa', 'sequences/prot-0264.fa']\n",
      "['sequences/prot-0915.fa', 'sequences/prot-0407.fa']\n"
     ]
    }
   ],
   "source": [
    "neg_scores = {}\n",
    "for pair in neg_pairs:\n",
    "    print(pair)\n",
    "    score = sw.align(pair[0], pair[1], return_alignment=False)\n",
    "\n",
    "    neg_scores[(pair[0], pair[1])] = score"
   ]
  },
  {
   "cell_type": "code",
   "execution_count": 10,
   "metadata": {},
   "outputs": [
    {
     "data": {
      "text/plain": [
       "{('sequences/prot-0018.fa', 'sequences/prot-0198.fa'): 38.0,\n",
       " ('sequences/prot-0035.fa', 'sequences/prot-0071.fa'): 28.0,\n",
       " ('sequences/prot-0056.fa', 'sequences/prot-0826.fa'): 25.0,\n",
       " ('sequences/prot-0075.fa', 'sequences/prot-0561.fa'): 32.0,\n",
       " ('sequences/prot-0093.fa', 'sequences/prot-0091.fa'): 40.0,\n",
       " ('sequences/prot-0110.fa', 'sequences/prot-0613.fa'): 41.0,\n",
       " ('sequences/prot-0131.fa', 'sequences/prot-0547.fa'): 45.0,\n",
       " ('sequences/prot-0148.fa', 'sequences/prot-0369.fa'): 20.0,\n",
       " ('sequences/prot-0166.fa', 'sequences/prot-0839.fa'): 24.0,\n",
       " ('sequences/prot-0186.fa', 'sequences/prot-0014.fa'): 20.0,\n",
       " ('sequences/prot-0206.fa', 'sequences/prot-0313.fa'): 44.0,\n",
       " ('sequences/prot-0228.fa', 'sequences/prot-0121.fa'): 19.0,\n",
       " ('sequences/prot-0244.fa', 'sequences/prot-0817.fa'): 24.0,\n",
       " ('sequences/prot-0262.fa', 'sequences/prot-0540.fa'): 40.0,\n",
       " ('sequences/prot-0286.fa', 'sequences/prot-0641.fa'): 60.0,\n",
       " ('sequences/prot-0305.fa', 'sequences/prot-0785.fa'): 34.0,\n",
       " ('sequences/prot-0326.fa', 'sequences/prot-0712.fa'): 30.0,\n",
       " ('sequences/prot-0346.fa', 'sequences/prot-0063.fa'): 40.0,\n",
       " ('sequences/prot-0363.fa', 'sequences/prot-0345.fa'): 36.0,\n",
       " ('sequences/prot-0380.fa', 'sequences/prot-0553.fa'): 35.0,\n",
       " ('sequences/prot-0397.fa', 'sequences/prot-0470.fa'): 54.0,\n",
       " ('sequences/prot-0414.fa', 'sequences/prot-0903.fa'): 34.0,\n",
       " ('sequences/prot-0431.fa', 'sequences/prot-0093.fa'): 31.0,\n",
       " ('sequences/prot-0446.fa', 'sequences/prot-0424.fa'): 50.0,\n",
       " ('sequences/prot-0469.fa', 'sequences/prot-0609.fa'): 45.0,\n",
       " ('sequences/prot-0486.fa', 'sequences/prot-0314.fa'): 27.0,\n",
       " ('sequences/prot-0503.fa', 'sequences/prot-0454.fa'): 43.0,\n",
       " ('sequences/prot-0520.fa', 'sequences/prot-0088.fa'): 31.0,\n",
       " ('sequences/prot-0536.fa', 'sequences/prot-0452.fa'): 33.0,\n",
       " ('sequences/prot-0552.fa', 'sequences/prot-0460.fa'): 35.0,\n",
       " ('sequences/prot-0571.fa', 'sequences/prot-0711.fa'): 57.0,\n",
       " ('sequences/prot-0595.fa', 'sequences/prot-0503.fa'): 40.0,\n",
       " ('sequences/prot-0616.fa', 'sequences/prot-0819.fa'): 33.0,\n",
       " ('sequences/prot-0631.fa', 'sequences/prot-0386.fa'): 51.0,\n",
       " ('sequences/prot-0648.fa', 'sequences/prot-0022.fa'): 28.0,\n",
       " ('sequences/prot-0665.fa', 'sequences/prot-0100.fa'): 52.0,\n",
       " ('sequences/prot-0682.fa', 'sequences/prot-0873.fa'): 32.0,\n",
       " ('sequences/prot-0699.fa', 'sequences/prot-0760.fa'): 34.0,\n",
       " ('sequences/prot-0716.fa', 'sequences/prot-0710.fa'): 30.0,\n",
       " ('sequences/prot-0734.fa', 'sequences/prot-0108.fa'): 30.0,\n",
       " ('sequences/prot-0750.fa', 'sequences/prot-0875.fa'): 24.0,\n",
       " ('sequences/prot-0772.fa', 'sequences/prot-0886.fa'): 29.0,\n",
       " ('sequences/prot-0791.fa', 'sequences/prot-0245.fa'): 33.0,\n",
       " ('sequences/prot-0805.fa', 'sequences/prot-0261.fa'): 40.0,\n",
       " ('sequences/prot-0821.fa', 'sequences/prot-0591.fa'): 43.0,\n",
       " ('sequences/prot-0843.fa', 'sequences/prot-0026.fa'): 34.0,\n",
       " ('sequences/prot-0860.fa', 'sequences/prot-0510.fa'): 30.0,\n",
       " ('sequences/prot-0878.fa', 'sequences/prot-0524.fa'): 22.0,\n",
       " ('sequences/prot-0900.fa', 'sequences/prot-0264.fa'): 39.0,\n",
       " ('sequences/prot-0915.fa', 'sequences/prot-0407.fa'): 31.0}"
      ]
     },
     "execution_count": 10,
     "metadata": {},
     "output_type": "execute_result"
    }
   ],
   "source": [
    "neg_scores"
   ]
  },
  {
   "cell_type": "code",
   "execution_count": 30,
   "metadata": {},
   "outputs": [
    {
     "name": "stdout",
     "output_type": "stream",
     "text": [
      "[42.0, 49.0, 37.0, 79.0, 69.0, 34.0, 50.0, 31.0, 31.0, 34.0, 32.0, 36.0, 53.0, 41.0, 120.0, 32.0, 33.0, 50.0, 49.0, 57.0, 51.0, 42.0, 44.0, 44.0, 106.0, 36.0, 57.0, 54.0, 36.0, 37.0, 52.0, 42.0, 50.0, 48.0, 39.0, 46.0, 42.0, 40.0, 37.0, 32.0, 33.0, 33.0, 41.0, 67.0, 140.0, 41.0, 47.0, 358.0, 76.0, 44.0, 38.0, 28.0, 25.0, 32.0, 40.0, 41.0, 45.0, 20.0, 24.0, 20.0, 44.0, 19.0, 24.0, 40.0, 60.0, 34.0, 30.0, 40.0, 36.0, 35.0, 54.0, 34.0, 31.0, 50.0, 45.0, 27.0, 43.0, 31.0, 33.0, 35.0, 57.0, 40.0, 33.0, 51.0, 28.0, 52.0, 32.0, 34.0, 30.0, 30.0, 24.0, 29.0, 33.0, 40.0, 43.0, 34.0, 30.0, 22.0, 39.0, 31.0]\n"
     ]
    }
   ],
   "source": [
    "p_scores = list(pos_scores.values())\n",
    "\n",
    "n_scores = list(neg_scores.values())\n",
    "\n",
    "all_scores = p_scores + n_scores\n",
    "print(all_scores)"
   ]
  },
  {
   "cell_type": "code",
   "execution_count": 33,
   "metadata": {},
   "outputs": [
    {
     "data": {
      "text/plain": [
       "100"
      ]
     },
     "execution_count": 33,
     "metadata": {},
     "output_type": "execute_result"
    }
   ],
   "source": []
  },
  {
   "cell_type": "code",
   "execution_count": 39,
   "metadata": {},
   "outputs": [
    {
     "data": {
      "text/plain": [
       "Text(0.5, 1.0, 'Distribution of aligment scores')"
      ]
     },
     "execution_count": 39,
     "metadata": {},
     "output_type": "execute_result"
    },
    {
     "data": {
      "image/png": "[encoded data removed]",
      "text/plain": [
       "<Figure size 432x288 with 1 Axes>"
      ]
     },
     "metadata": {
      "needs_background": "light"
     },
     "output_type": "display_data"
    }
   ],
   "source": [
    "import matplotlib.pyplot as plt\n",
    "\n",
    "plt.hist(x=all_scores, bins='auto', rwidth=0.85)\n",
    "plt.grid(axis='y', alpha=0.75)\n",
    "plt.xlabel('Value')\n",
    "plt.ylabel('Frequency')\n",
    "plt.title('Distribution of aligment scores')"
   ]
  },
  {
   "cell_type": "markdown",
   "metadata": {},
   "source": [
    "The distribution is centered around scores from ~25-50, meaning that most alignments are falling into this score range. There are some higher scoring outliers as well."
   ]
  },
  {
   "cell_type": "code",
   "execution_count": 62,
   "metadata": {},
   "outputs": [
    {
     "name": "stdout",
     "output_type": "stream",
     "text": [
      "Average score (threshold): 45.44\n"
     ]
    }
   ],
   "source": [
    "import pandas as pd\n",
    "\n",
    "avg_score = np.mean(all_scores)\n",
    "print(\"Average score (threshold): \" + str(avg_score))\n",
    "\n",
    "# predict that the scores higher than threshold are True\n",
    "predicted = all_scores > avg_score\n",
    "\n",
    "# First 50 scores are true positive, last 50 are true negative\n",
    "actual = list(np.repeat(True, 50))  + list(np.repeat(False, 50))\n",
    "\n",
    "df = pd.DataFrame({'predicted': predicted, 'actual': actual})\n"
   ]
  },
  {
   "cell_type": "code",
   "execution_count": 63,
   "metadata": {},
   "outputs": [
    {
     "data": {
      "text/html": [
       "<div>\n",
       "<style scoped>\n",
       "    .dataframe tbody tr th:only-of-type {\n",
       "        vertical-align: middle;\n",
       "    }\n",
       "\n",
       "    .dataframe tbody tr th {\n",
       "        vertical-align: top;\n",
       "    }\n",
       "\n",
       "    .dataframe thead th {\n",
       "        text-align: right;\n",
       "    }\n",
       "</style>\n",
       "<table border=\"1\" class=\"dataframe\">\n",
       "  <thead>\n",
       "    <tr style=\"text-align: right;\">\n",
       "      <th>Predicted</th>\n",
       "      <th>False</th>\n",
       "      <th>True</th>\n",
       "    </tr>\n",
       "    <tr>\n",
       "      <th>Actual</th>\n",
       "      <th></th>\n",
       "      <th></th>\n",
       "    </tr>\n",
       "  </thead>\n",
       "  <tbody>\n",
       "    <tr>\n",
       "      <th>False</th>\n",
       "      <td>44</td>\n",
       "      <td>6</td>\n",
       "    </tr>\n",
       "    <tr>\n",
       "      <th>True</th>\n",
       "      <td>28</td>\n",
       "      <td>22</td>\n",
       "    </tr>\n",
       "  </tbody>\n",
       "</table>\n",
       "</div>"
      ],
      "text/plain": [
       "Predicted  False  True \n",
       "Actual                 \n",
       "False         44      6\n",
       "True          28     22"
      ]
     },
     "execution_count": 63,
     "metadata": {},
     "output_type": "execute_result"
    }
   ],
   "source": [
    "confusion_matrix = pd.crosstab(df['actual'], df['predicted'], rownames=['Actual'], colnames=['Predicted'])\n",
    "confusion_matrix"
   ]
  },
  {
   "cell_type": "code",
   "execution_count": 64,
   "metadata": {},
   "outputs": [
    {
     "name": "stdout",
     "output_type": "stream",
     "text": [
      "sensitivity: 0.44\n",
      "specificity: 0.88\n"
     ]
    }
   ],
   "source": [
    "#The sensitivity is TP/TP+FN\n",
    "sensitivity = 22/(22+28)\n",
    "print(\"sensitivity: \" + str(sensitivity))\n",
    "\n",
    "# specificity = TN/TN+FP\n",
    "specificity = 44/(44+6)\n",
    "print(\"specificity: \" + str(specificity))"
   ]
  },
  {
   "cell_type": "markdown",
   "metadata": {},
   "source": [
    "Using the average score to threshold seems to give a low sensitivity but high specificity."
   ]
  },
  {
   "cell_type": "code",
   "execution_count": 76,
   "metadata": {},
   "outputs": [
    {
     "data": {
      "image/png": "[encoded data removed]",
      "text/plain": [
       "<Figure size 432x288 with 1 Axes>"
      ]
     },
     "metadata": {
      "needs_background": "light"
     },
     "output_type": "display_data"
    }
   ],
   "source": [
    "from sklearn.metrics import roc_auc_score, roc_curve\n",
    "\n",
    "fpr, tpr, thresholds = roc_curve(df['actual'], df['predicted'])\n",
    "ns_probs = [False for _ in range(len(df['predicted']))]\n",
    "ns_fpr, ns_tpr, _ = roc_curve(df['actual'], ns_probs)\n",
    "\n",
    "fig = plt.figure()\n",
    "ax = fig.add_subplot(111)\n",
    "\n",
    "plt.plot(ns_fpr, ns_tpr, linestyle='--', label='No Skill')\n",
    "plt.plot(fpr, tpr, marker='.', label='Local alignment')\n",
    "\n",
    "plt.title('ROC curve')\n",
    "plt.xlabel('False Positive Rate')\n",
    "plt.ylabel('True Positive Rate')\n",
    "ax.set_aspect('equal', adjustable='box')\n"
   ]
  },
  {
   "cell_type": "code",
   "execution_count": 67,
   "metadata": {},
   "outputs": [
    {
     "name": "stdout",
     "output_type": "stream",
     "text": [
      "AUC: 0.6599999999999999\n"
     ]
    }
   ],
   "source": [
    "from sklearn.metrics import roc_auc_score\n",
    "\n",
    "# calculate AUC\n",
    "auc = roc_auc_score(df['actual'], df['predicted'])\n",
    "print(\"AUC: \" + str(auc))\n",
    "\n"
   ]
  },
  {
   "cell_type": "code",
   "execution_count": null,
   "metadata": {},
   "outputs": [],
   "source": [
    "plt.figure()\n",
    "lw = 2\n",
    "plt.plot(fpr[2], tpr[2], color='darkorange',\n",
    "         lw=lw, label='ROC curve (area = %0.2f)' % roc_auc[2])\n",
    "plt.plot([0, 1], [0, 1], color='navy', lw=lw, linestyle='--')\n",
    "plt.xlim([0.0, 1.0])\n",
    "plt.ylim([0.0, 1.05])\n",
    "plt.xlabel('False Positive Rate')\n",
    "plt.ylabel('True Positive Rate')\n",
    "plt.title('Receiver operating characteristic example')\n",
    "plt.legend(loc=\"lower right\")\n",
    "plt.show()"
   ]
  }
 ],
 "metadata": {
  "kernelspec": {
   "display_name": "Python 3",
   "language": "python",
   "name": "python3"
  },
  "language_info": {
   "codemirror_mode": {
    "name": "ipython",
    "version": 3
   },
   "file_extension": ".py",
   "mimetype": "text/x-python",
   "name": "python",
   "nbconvert_exporter": "python",
   "pygments_lexer": "ipython3",
   "version": "3.8.3"
  }
 },
 "nbformat": 4,
 "nbformat_minor": 4
}
